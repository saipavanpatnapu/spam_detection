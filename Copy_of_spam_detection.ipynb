{
  "nbformat": 4,
  "nbformat_minor": 0,
  "metadata": {
    "colab": {
      "provenance": [],
      "include_colab_link": true
    },
    "kernelspec": {
      "name": "python3",
      "display_name": "Python 3"
    },
    "language_info": {
      "name": "python"
    }
  },
  "cells": [
    {
      "cell_type": "markdown",
      "metadata": {
        "id": "view-in-github",
        "colab_type": "text"
      },
      "source": [
        "<a href=\"https://colab.research.google.com/github/saipavanpatnapu/spam_detection/blob/main/Copy_of_spam_detection.ipynb\" target=\"_parent\"><img src=\"https://colab.research.google.com/assets/colab-badge.svg\" alt=\"Open In Colab\"/></a>"
      ]
    },
    {
      "cell_type": "code",
      "execution_count": null,
      "metadata": {
        "colab": {
          "base_uri": "https://localhost:8080/"
        },
        "id": "doO01FGsZx7H",
        "outputId": "2f90c76c-d960-49f8-9827-11c88caf30f4"
      },
      "outputs": [
        {
          "output_type": "stream",
          "name": "stdout",
          "text": [
            "Requirement already satisfied: pandas in /usr/local/lib/python3.11/dist-packages (2.2.2)\n",
            "Requirement already satisfied: scikit-learn in /usr/local/lib/python3.11/dist-packages (1.6.1)\n",
            "Requirement already satisfied: numpy>=1.23.2 in /usr/local/lib/python3.11/dist-packages (from pandas) (2.0.2)\n",
            "Requirement already satisfied: python-dateutil>=2.8.2 in /usr/local/lib/python3.11/dist-packages (from pandas) (2.9.0.post0)\n",
            "Requirement already satisfied: pytz>=2020.1 in /usr/local/lib/python3.11/dist-packages (from pandas) (2025.2)\n",
            "Requirement already satisfied: tzdata>=2022.7 in /usr/local/lib/python3.11/dist-packages (from pandas) (2025.2)\n",
            "Requirement already satisfied: scipy>=1.6.0 in /usr/local/lib/python3.11/dist-packages (from scikit-learn) (1.15.3)\n",
            "Requirement already satisfied: joblib>=1.2.0 in /usr/local/lib/python3.11/dist-packages (from scikit-learn) (1.5.1)\n",
            "Requirement already satisfied: threadpoolctl>=3.1.0 in /usr/local/lib/python3.11/dist-packages (from scikit-learn) (3.6.0)\n",
            "Requirement already satisfied: six>=1.5 in /usr/local/lib/python3.11/dist-packages (from python-dateutil>=2.8.2->pandas) (1.17.0)\n"
          ]
        }
      ],
      "source": [
        "pip install pandas scikit-learn"
      ]
    },
    {
      "cell_type": "markdown",
      "source": [
        "**Import Libraries**"
      ],
      "metadata": {
        "id": "7OG9kNrPamym"
      }
    },
    {
      "cell_type": "code",
      "source": [
        "import pandas as pd\n",
        "from sklearn.model_selection import train_test_split\n",
        "from sklearn.feature_extraction.text import TfidfVectorizer\n",
        "from sklearn.naive_bayes import MultinomialNB\n",
        "from sklearn.svm import LinearSVC\n",
        "from sklearn.metrics import accuracy_score, classification_report"
      ],
      "metadata": {
        "id": "8Y5WBr2LagSt"
      },
      "execution_count": null,
      "outputs": []
    },
    {
      "cell_type": "markdown",
      "source": [
        "**Load And Clean The Dataset**"
      ],
      "metadata": {
        "id": "3aYlH64EawfW"
      }
    },
    {
      "cell_type": "code",
      "source": [
        "# Load the dataset\n",
        "df = pd.read_csv(\"spam.csv\", encoding='latin-1')[['v1', 'v2']]\n",
        "\n",
        "# Rename columns\n",
        "df.columns = ['label', 'text']\n",
        "\n",
        "# Convert labels to numbers: ham=0, spam=1\n",
        "df['label'] = df['label'].map({'ham': 0, 'spam': 1})\n",
        "\n",
        "# Show a sample\n",
        "print(df.head())"
      ],
      "metadata": {
        "colab": {
          "base_uri": "https://localhost:8080/"
        },
        "id": "EqnuWI56av42",
        "outputId": "19d08cd2-b32f-4367-e818-6d5295b8a5c6"
      },
      "execution_count": null,
      "outputs": [
        {
          "output_type": "stream",
          "name": "stdout",
          "text": [
            "   label                                               text\n",
            "0      0  Go until jurong point, crazy.. Available only ...\n",
            "1      0                      Ok lar... Joking wif u oni...\n",
            "2      1  Free entry in 2 a wkly comp to win FA Cup fina...\n",
            "3      0  U dun say so early hor... U c already then say...\n",
            "4      0  Nah I don't think he goes to usf, he lives aro...\n"
          ]
        }
      ]
    },
    {
      "cell_type": "markdown",
      "source": [
        "**Split The Dataset**"
      ],
      "metadata": {
        "id": "27DSJKiCbNgQ"
      }
    },
    {
      "cell_type": "code",
      "source": [
        "X = df['text']         # Input\n",
        "y = df['label']        # Output\n",
        "\n",
        "X_train, X_test, y_train, y_test = train_test_split(X, y, test_size=0.2, random_state=42)"
      ],
      "metadata": {
        "id": "MY32Jxq6bMel"
      },
      "execution_count": null,
      "outputs": []
    },
    {
      "cell_type": "markdown",
      "source": [
        "**Vectorize the Text (TF-IDF)**"
      ],
      "metadata": {
        "id": "HIJJn3M7bjF6"
      }
    },
    {
      "cell_type": "code",
      "source": [
        "vectorizer = TfidfVectorizer(stop_words='english')\n",
        "\n",
        "X_train_vec = vectorizer.fit_transform(X_train)\n",
        "X_test_vec = vectorizer.transform(X_test)"
      ],
      "metadata": {
        "id": "yfj-trvzbfeo"
      },
      "execution_count": null,
      "outputs": []
    },
    {
      "cell_type": "markdown",
      "source": [
        "**Train Naive Bayes Model**"
      ],
      "metadata": {
        "id": "wS6mZ4YMbrKj"
      }
    },
    {
      "cell_type": "code",
      "source": [
        "nb_model = MultinomialNB()\n",
        "nb_model.fit(X_train_vec, y_train)\n",
        "\n",
        "nb_preds = nb_model.predict(X_test_vec)\n",
        "\n",
        "print(\"🔹Multinomial Naive Bayes Results🔹\")\n",
        "print(\"Accuracy:\", accuracy_score(y_test, nb_preds))\n",
        "print(classification_report(y_test, nb_preds))"
      ],
      "metadata": {
        "colab": {
          "base_uri": "https://localhost:8080/"
        },
        "id": "iSvrP7YzboSq",
        "outputId": "afa8d0eb-6a0a-4c33-a7ee-fa3179859853"
      },
      "execution_count": null,
      "outputs": [
        {
          "output_type": "stream",
          "name": "stdout",
          "text": [
            "🔹Multinomial Naive Bayes Results🔹\n",
            "Accuracy: 0.9668161434977578\n",
            "              precision    recall  f1-score   support\n",
            "\n",
            "           0       0.96      1.00      0.98       965\n",
            "           1       1.00      0.75      0.86       150\n",
            "\n",
            "    accuracy                           0.97      1115\n",
            "   macro avg       0.98      0.88      0.92      1115\n",
            "weighted avg       0.97      0.97      0.96      1115\n",
            "\n"
          ]
        }
      ]
    },
    {
      "cell_type": "markdown",
      "source": [
        "**Train SVM Model**"
      ],
      "metadata": {
        "id": "_XifYHKHb0d1"
      }
    },
    {
      "cell_type": "code",
      "source": [
        "svm_model = LinearSVC()\n",
        "svm_model.fit(X_train_vec, y_train)\n",
        "\n",
        "svm_preds = svm_model.predict(X_test_vec)\n",
        "\n",
        "print(\"🔸Support Vector Machine Results🔸\")\n",
        "print(\"Accuracy:\", accuracy_score(y_test, svm_preds))\n",
        "print(classification_report(y_test, svm_preds))"
      ],
      "metadata": {
        "colab": {
          "base_uri": "https://localhost:8080/"
        },
        "id": "fMwml2NTbvy2",
        "outputId": "bcd494ad-b0b2-44e1-a517-317b69b024b2"
      },
      "execution_count": null,
      "outputs": [
        {
          "output_type": "stream",
          "name": "stdout",
          "text": [
            "🔸Support Vector Machine Results🔸\n",
            "Accuracy: 0.97847533632287\n",
            "              precision    recall  f1-score   support\n",
            "\n",
            "           0       0.98      0.99      0.99       965\n",
            "           1       0.96      0.87      0.92       150\n",
            "\n",
            "    accuracy                           0.98      1115\n",
            "   macro avg       0.97      0.93      0.95      1115\n",
            "weighted avg       0.98      0.98      0.98      1115\n",
            "\n"
          ]
        }
      ]
    },
    {
      "cell_type": "markdown",
      "source": [
        "**Input and Results**"
      ],
      "metadata": {
        "id": "6-UPw9qAcBNw"
      }
    },
    {
      "cell_type": "code",
      "source": [
        "def predict_message(text, model):\n",
        "    vec = vectorizer.transform([text])\n",
        "    prediction = model.predict(vec)\n",
        "    return \"Spam\" if prediction[0] == 1 else \"Not Spam\"\n",
        "\n",
        "# Trying Naive Bayes\n",
        "print(predict_message(\"Congratulations! You've won ₹10,000!\", nb_model))\n",
        "\n",
        "# Trying SVM\n",
        "print(predict_message(\"Hey, are we still meeting at 4 PM?\", svm_model))"
      ],
      "metadata": {
        "colab": {
          "base_uri": "https://localhost:8080/"
        },
        "id": "E93-MyBeb9aE",
        "outputId": "79297408-9cee-4384-c285-5c7f48268676"
      },
      "execution_count": null,
      "outputs": [
        {
          "output_type": "stream",
          "name": "stdout",
          "text": [
            "Spam\n",
            "Not Spam\n"
          ]
        }
      ]
    },
    {
      "cell_type": "code",
      "source": [
        "pip install matplotlib"
      ],
      "metadata": {
        "colab": {
          "base_uri": "https://localhost:8080/"
        },
        "id": "BUUmQ8KxcFrZ",
        "outputId": "2b4163ef-4ece-4c48-d2c7-da3651a3605f"
      },
      "execution_count": null,
      "outputs": [
        {
          "output_type": "stream",
          "name": "stdout",
          "text": [
            "Requirement already satisfied: matplotlib in /usr/local/lib/python3.11/dist-packages (3.10.0)\n",
            "Requirement already satisfied: contourpy>=1.0.1 in /usr/local/lib/python3.11/dist-packages (from matplotlib) (1.3.2)\n",
            "Requirement already satisfied: cycler>=0.10 in /usr/local/lib/python3.11/dist-packages (from matplotlib) (0.12.1)\n",
            "Requirement already satisfied: fonttools>=4.22.0 in /usr/local/lib/python3.11/dist-packages (from matplotlib) (4.58.4)\n",
            "Requirement already satisfied: kiwisolver>=1.3.1 in /usr/local/lib/python3.11/dist-packages (from matplotlib) (1.4.8)\n",
            "Requirement already satisfied: numpy>=1.23 in /usr/local/lib/python3.11/dist-packages (from matplotlib) (2.0.2)\n",
            "Requirement already satisfied: packaging>=20.0 in /usr/local/lib/python3.11/dist-packages (from matplotlib) (24.2)\n",
            "Requirement already satisfied: pillow>=8 in /usr/local/lib/python3.11/dist-packages (from matplotlib) (11.2.1)\n",
            "Requirement already satisfied: pyparsing>=2.3.1 in /usr/local/lib/python3.11/dist-packages (from matplotlib) (3.2.3)\n",
            "Requirement already satisfied: python-dateutil>=2.7 in /usr/local/lib/python3.11/dist-packages (from matplotlib) (2.9.0.post0)\n",
            "Requirement already satisfied: six>=1.5 in /usr/local/lib/python3.11/dist-packages (from python-dateutil>=2.7->matplotlib) (1.17.0)\n"
          ]
        }
      ]
    },
    {
      "cell_type": "markdown",
      "source": [
        "**Comparing Models**"
      ],
      "metadata": {
        "id": "bYG1OWrQcPOC"
      }
    },
    {
      "cell_type": "code",
      "source": [
        "import matplotlib.pyplot as plt\n",
        "from sklearn.metrics import precision_score, recall_score, f1_score\n",
        "\n",
        "# Collect metrics for Naive Bayes\n",
        "nb_accuracy = accuracy_score(y_test, nb_preds)\n",
        "nb_precision = precision_score(y_test, nb_preds)\n",
        "nb_recall = recall_score(y_test, nb_preds)\n",
        "nb_f1 = f1_score(y_test, nb_preds)\n",
        "\n",
        "# Collect metrics for SVM\n",
        "svm_accuracy = accuracy_score(y_test, svm_preds)\n",
        "svm_precision = precision_score(y_test, svm_preds)\n",
        "svm_recall = recall_score(y_test, svm_preds)\n",
        "svm_f1 = f1_score(y_test, svm_preds)\n",
        "\n",
        "# Labels & values\n",
        "metrics = ['Accuracy', 'Precision', 'Recall', 'F1 Score']\n",
        "nb_scores = [nb_accuracy, nb_precision, nb_recall, nb_f1]\n",
        "svm_scores = [svm_accuracy, svm_precision, svm_recall, svm_f1]\n",
        "\n",
        "x = range(len(metrics))\n",
        "\n",
        "# Plotting\n",
        "plt.figure(figsize=(8, 5))\n",
        "bar_width = 0.35\n",
        "\n",
        "plt.bar(x, nb_scores, width=bar_width, label='Naive Bayes', color='skyblue')\n",
        "plt.bar([p + bar_width for p in x], svm_scores, width=bar_width, label='SVM', color='orange')\n",
        "\n",
        "plt.xticks([p + bar_width/2 for p in x], metrics)\n",
        "plt.ylabel(\"Score\")\n",
        "plt.title(\"Model Comparison: Naive Bayes vs SVM\")\n",
        "plt.ylim(0.6, 1.1)\n",
        "plt.legend()\n",
        "plt.grid(axis='y', linestyle='--', alpha=0.7)\n",
        "plt.tight_layout()\n",
        "plt.show()\n"
      ],
      "metadata": {
        "colab": {
          "base_uri": "https://localhost:8080/",
          "height": 507
        },
        "id": "VahNpe3YcJwU",
        "outputId": "13113b87-924b-46cd-ec98-e224b71c416c"
      },
      "execution_count": null,
      "outputs": [
        {
          "output_type": "display_data",
          "data": {
            "text/plain": [
              "<Figure size 800x500 with 1 Axes>"
            ],
            "image/png": "[encoded data removed]"
          },
          "metadata": {}
        }
      ]
    }
  ]
}